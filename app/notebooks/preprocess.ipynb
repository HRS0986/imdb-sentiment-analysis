{
 "cells": [
  {
   "cell_type": "code",
   "execution_count": 1,
   "id": "initial_id",
   "metadata": {
    "collapsed": true,
    "ExecuteTime": {
     "end_time": "2024-03-22T03:20:45.543747300Z",
     "start_time": "2024-03-22T03:20:31.472729200Z"
    }
   },
   "outputs": [
    {
     "data": {
      "text/plain": "dict_keys(['train', 'test'])"
     },
     "execution_count": 1,
     "metadata": {},
     "output_type": "execute_result"
    }
   ],
   "source": [
    "from datasets import load_dataset\n",
    "\n",
    "dataset = load_dataset(\"ajaykarthick/imdb-movie-reviews\")\n",
    "dataset.keys()"
   ]
  },
  {
   "cell_type": "code",
   "outputs": [
    {
     "data": {
      "text/plain": "(20000, 2)"
     },
     "execution_count": 2,
     "metadata": {},
     "output_type": "execute_result"
    }
   ],
   "source": [
    "import pandas as pd\n",
    "df = pd.DataFrame(dataset[\"train\"])\n",
    "df.drop(df.tail(20000).index, inplace = True)\n",
    "df.shape"
   ],
   "metadata": {
    "collapsed": false,
    "ExecuteTime": {
     "end_time": "2024-03-22T03:20:48.275728600Z",
     "start_time": "2024-03-22T03:20:45.430666900Z"
    }
   },
   "id": "e143059a20c07365",
   "execution_count": 2
  },
  {
   "cell_type": "code",
   "outputs": [],
   "source": [],
   "metadata": {
    "collapsed": false,
    "ExecuteTime": {
     "end_time": "2024-03-22T03:20:48.340320100Z",
     "start_time": "2024-03-22T03:20:48.275615100Z"
    }
   },
   "id": "535c4be974ae05d0",
   "execution_count": 2
  },
  {
   "cell_type": "code",
   "outputs": [],
   "source": [
    "import re"
   ],
   "metadata": {
    "collapsed": false,
    "ExecuteTime": {
     "end_time": "2024-03-22T03:20:48.507677800Z",
     "start_time": "2024-03-22T03:20:48.299263800Z"
    }
   },
   "id": "d187970531419479",
   "execution_count": 3
  },
  {
   "cell_type": "code",
   "outputs": [
    {
     "data": {
      "text/plain": "\"if you are 10 years old and never seen a movie before, maybe this film may be entertainment for you, but if you've seen several movies, this one will be a silly fully-cliched cheap and predictable for you. don't waste your time with this.\""
     },
     "execution_count": 4,
     "metadata": {},
     "output_type": "execute_result"
    }
   ],
   "source": [
    "df[\"review\"] = df[\"review\"].str.lower()\n",
    "xx = \"If you are 10 years old and never seen a movie before, maybe this film may be entertainment for you, but if you've seen several movies, this one will be a silly fully-cliched cheap and predictable for you. Don't waste your time with this.\"\n",
    "xx = xx.lower()\n",
    "xx"
   ],
   "metadata": {
    "collapsed": false,
    "ExecuteTime": {
     "end_time": "2024-03-22T03:20:48.640028500Z",
     "start_time": "2024-03-22T03:20:48.452318900Z"
    }
   },
   "id": "c402fb4cc91eede4",
   "execution_count": 4
  },
  {
   "cell_type": "code",
   "outputs": [
    {
     "data": {
      "text/plain": "                                              review  label\n0  ms aparna sen, the maker of mr & mrs iyer, dir...      0\n1  i have seen this film only once, on tv, and it...      0\n2  i was only fourteen when i first saw the alien...      1\n3  this marvelous short will hit home with everyo...      0\n4  if you are 10 years old and never seen a movie...      1",
      "text/html": "<div>\n<style scoped>\n    .dataframe tbody tr th:only-of-type {\n        vertical-align: middle;\n    }\n\n    .dataframe tbody tr th {\n        vertical-align: top;\n    }\n\n    .dataframe thead th {\n        text-align: right;\n    }\n</style>\n<table border=\"1\" class=\"dataframe\">\n  <thead>\n    <tr style=\"text-align: right;\">\n      <th></th>\n      <th>review</th>\n      <th>label</th>\n    </tr>\n  </thead>\n  <tbody>\n    <tr>\n      <th>0</th>\n      <td>ms aparna sen, the maker of mr &amp; mrs iyer, dir...</td>\n      <td>0</td>\n    </tr>\n    <tr>\n      <th>1</th>\n      <td>i have seen this film only once, on tv, and it...</td>\n      <td>0</td>\n    </tr>\n    <tr>\n      <th>2</th>\n      <td>i was only fourteen when i first saw the alien...</td>\n      <td>1</td>\n    </tr>\n    <tr>\n      <th>3</th>\n      <td>this marvelous short will hit home with everyo...</td>\n      <td>0</td>\n    </tr>\n    <tr>\n      <th>4</th>\n      <td>if you are 10 years old and never seen a movie...</td>\n      <td>1</td>\n    </tr>\n  </tbody>\n</table>\n</div>"
     },
     "execution_count": 5,
     "metadata": {},
     "output_type": "execute_result"
    }
   ],
   "source": [
    "df.head()\n"
   ],
   "metadata": {
    "collapsed": false,
    "ExecuteTime": {
     "end_time": "2024-03-22T03:20:48.864894600Z",
     "start_time": "2024-03-22T03:20:48.478105Z"
    }
   },
   "id": "9837a28a7429f42e",
   "execution_count": 5
  },
  {
   "cell_type": "code",
   "outputs": [
    {
     "data": {
      "text/plain": "\"if you are 10 years old and never seen a movie before, maybe this film may be entertainment for you, but if you've seen several movies, this one will be a silly fully-cliched cheap and predictable for you. don't waste your time with this.\""
     },
     "execution_count": 6,
     "metadata": {},
     "output_type": "execute_result"
    }
   ],
   "source": [
    "df[\"review\"] = df[\"review\"].str.replace(\"<.+?/?>\", \"\", regex=True)\n",
    "xx = re.sub(\"<.+?/?>\", \"\", xx)\n",
    "xx"
   ],
   "metadata": {
    "collapsed": false,
    "ExecuteTime": {
     "end_time": "2024-03-22T03:20:48.955980Z",
     "start_time": "2024-03-22T03:20:48.527498800Z"
    }
   },
   "id": "62f6f89115b4d32e",
   "execution_count": 6
  },
  {
   "cell_type": "code",
   "outputs": [],
   "source": [
    "import string"
   ],
   "metadata": {
    "collapsed": false,
    "ExecuteTime": {
     "end_time": "2024-03-22T03:20:48.961839200Z",
     "start_time": "2024-03-22T03:20:48.665095800Z"
    }
   },
   "id": "4972e4045762b175",
   "execution_count": 7
  },
  {
   "cell_type": "code",
   "outputs": [
    {
     "data": {
      "text/plain": "'if you are 10 years old and never seen a movie before maybe this film may be entertainment for you but if youve seen several movies this one will be a silly fullycliched cheap and predictable for you dont waste your time with this'"
     },
     "execution_count": 8,
     "metadata": {},
     "output_type": "execute_result"
    }
   ],
   "source": [
    "punctuation = string.punctuation\n",
    "def remove_punctuation(text):\n",
    "    return text.translate(str.maketrans(\"\", \"\", punctuation))\n",
    "\n",
    "df[\"review\"] = df[\"review\"].apply(remove_punctuation)\n",
    "xx = remove_punctuation(xx)\n",
    "xx"
   ],
   "metadata": {
    "collapsed": false,
    "ExecuteTime": {
     "end_time": "2024-03-22T03:20:49.757664500Z",
     "start_time": "2024-03-22T03:20:48.681962600Z"
    }
   },
   "id": "83d041ae9d391531",
   "execution_count": 8
  },
  {
   "cell_type": "code",
   "outputs": [
    {
     "data": {
      "text/plain": "'if you are  years old and never seen a movie before maybe this film may be entertainment for you but if youve seen several movies this one will be a silly fullycliched cheap and predictable for you dont waste your time with this'"
     },
     "execution_count": 9,
     "metadata": {},
     "output_type": "execute_result"
    }
   ],
   "source": [
    "df[\"review\"] = df[\"review\"].str.replace(\"\\d+\", \"\", regex=True)\n",
    "xx = re.sub(\"\\d+\", \"\", xx)\n",
    "xx"
   ],
   "metadata": {
    "collapsed": false,
    "ExecuteTime": {
     "end_time": "2024-03-22T03:20:50.434893400Z",
     "start_time": "2024-03-22T03:20:49.472458200Z"
    }
   },
   "id": "7daab038e47b0056",
   "execution_count": 9
  },
  {
   "cell_type": "code",
   "outputs": [
    {
     "data": {
      "text/plain": "'if you are years old and never seen a movie before maybe this film may be entertainment for you but if youve seen several movies this one will be a silly fullycliched cheap and predictable for you dont waste your time with this'"
     },
     "execution_count": 10,
     "metadata": {},
     "output_type": "execute_result"
    }
   ],
   "source": [
    "df[\"review\"] = df[\"review\"].str.replace(\"  \", \" \", regex=True)\n",
    "xx = re.sub(\"  \", \" \", xx)\n",
    "xx\n"
   ],
   "metadata": {
    "collapsed": false,
    "ExecuteTime": {
     "end_time": "2024-03-22T03:20:50.705649400Z",
     "start_time": "2024-03-22T03:20:50.407553200Z"
    }
   },
   "id": "233046de403c954a",
   "execution_count": 10
  },
  {
   "cell_type": "code",
   "outputs": [],
   "source": [
    "from nltk.corpus import stopwords\n",
    "stopwords_str = \", \".join(stopwords.words('english'))\n"
   ],
   "metadata": {
    "collapsed": false,
    "ExecuteTime": {
     "end_time": "2024-03-22T03:20:56.227893100Z",
     "start_time": "2024-03-22T03:20:50.600708Z"
    }
   },
   "id": "89e95c0caa88aaf0",
   "execution_count": 11
  },
  {
   "cell_type": "code",
   "outputs": [],
   "source": [
    "def remove_stopwords(text):\n",
    "    new_text = []\n",
    "    for token in text.split():\n",
    "        if not token in stopwords_str:\n",
    "            new_text.append(token)\n",
    "    \n",
    "    return \" \".join(new_text)"
   ],
   "metadata": {
    "collapsed": false,
    "ExecuteTime": {
     "end_time": "2024-03-22T03:20:56.488998400Z",
     "start_time": "2024-03-22T03:20:56.247459300Z"
    }
   },
   "id": "da04962b5f12add0",
   "execution_count": 12
  },
  {
   "cell_type": "code",
   "outputs": [
    {
     "data": {
      "text/plain": "'years old never seen movie maybe film may entertainment youve seen several movies one silly fullycliched cheap predictable dont waste time'"
     },
     "execution_count": 13,
     "metadata": {},
     "output_type": "execute_result"
    }
   ],
   "source": [
    "df[\"review\"] = df[\"review\"].apply(remove_stopwords)\n",
    "df[\"review\"]\n",
    "xx = remove_stopwords(xx)\n",
    "xx"
   ],
   "metadata": {
    "collapsed": false,
    "ExecuteTime": {
     "end_time": "2024-03-22T03:21:02.912576100Z",
     "start_time": "2024-03-22T03:20:56.283099400Z"
    }
   },
   "id": "68e83d1bb5c454af",
   "execution_count": 13
  },
  {
   "cell_type": "code",
   "outputs": [
    {
     "data": {
      "text/plain": "numpy.ndarray"
     },
     "execution_count": 14,
     "metadata": {},
     "output_type": "execute_result"
    }
   ],
   "source": [
    "type(df[\"review\"].values)"
   ],
   "metadata": {
    "collapsed": false,
    "ExecuteTime": {
     "end_time": "2024-03-22T03:21:03.063929900Z",
     "start_time": "2024-03-22T03:21:02.898555700Z"
    }
   },
   "id": "9075b9c78d674936",
   "execution_count": 14
  },
  {
   "cell_type": "code",
   "outputs": [
    {
     "data": {
      "text/plain": "Counter({'movie': 33442,\n         'film': 29752,\n         'one': 20054,\n         'like': 15523,\n         'good': 11438,\n         'even': 9672,\n         'time': 9285,\n         'really': 9076,\n         'see': 8884,\n         'story': 8861,\n         'well': 7457,\n         'much': 7372,\n         'get': 7227,\n         'also': 7067,\n         'great': 7055,\n         'bad': 7047,\n         'people': 7014,\n         'first': 6790,\n         'dont': 6627,\n         'made': 6269,\n         'movies': 6239,\n         'films': 6074,\n         'way': 6026,\n         'make': 6021,\n         'characters': 5947,\n         'think': 5839,\n         'watch': 5356,\n         'many': 5353,\n         'seen': 5285,\n         'character': 5191,\n         'two': 5137,\n         'never': 5092,\n         'love': 4989,\n         'know': 4964,\n         'best': 4925,\n         'acting': 4872,\n         'little': 4856,\n         'plot': 4853,\n         'ever': 4695,\n         'life': 4624,\n         'show': 4615,\n         'better': 4352,\n         'still': 4318,\n         'say': 4276,\n         'man': 4217,\n         'end': 4150,\n         'scene': 4129,\n         'scenes': 4013,\n         'something': 3926,\n         'go': 3793,\n         'back': 3656,\n         'real': 3640,\n         'thing': 3586,\n         'actors': 3554,\n         'doesnt': 3550,\n         'years': 3526,\n         'didnt': 3508,\n         'watching': 3506,\n         'actually': 3339,\n         'though': 3334,\n         'funny': 3331,\n         'makes': 3324,\n         'another': 3280,\n         'look': 3278,\n         'lot': 3267,\n         'nothing': 3250,\n         'find': 3241,\n         'old': 3158,\n         'going': 3152,\n         'work': 3136,\n         'new': 3084,\n         'cant': 3052,\n         'part': 3001,\n         'every': 2982,\n         'want': 2930,\n         'director': 2896,\n         'thats': 2895,\n         'quite': 2874,\n         'pretty': 2870,\n         'cast': 2825,\n         'young': 2801,\n         'fact': 2799,\n         'got': 2781,\n         'around': 2780,\n         'horror': 2774,\n         'seems': 2748,\n         'things': 2743,\n         'take': 2721,\n         'world': 2717,\n         'give': 2703,\n         'enough': 2674,\n         'thought': 2654,\n         'ive': 2611,\n         'may': 2602,\n         'big': 2569,\n         'gets': 2567,\n         'isnt': 2558,\n         'comedy': 2540,\n         'without': 2537,\n         'right': 2527,\n         'saw': 2521,\n         'however': 2495,\n         'music': 2476,\n         'interesting': 2467,\n         'long': 2459,\n         'whole': 2455,\n         'always': 2447,\n         'least': 2439,\n         'guy': 2435,\n         'times': 2422,\n         'original': 2417,\n         'almost': 2397,\n         'come': 2397,\n         'point': 2353,\n         'series': 2351,\n         'role': 2350,\n         'script': 2343,\n         'action': 2333,\n         'done': 2330,\n         'far': 2319,\n         'feel': 2306,\n         'bit': 2304,\n         'theres': 2300,\n         'family': 2276,\n         'since': 2273,\n         'minutes': 2260,\n         'anything': 2255,\n         'probably': 2221,\n         'performance': 2184,\n         'away': 2169,\n         'last': 2168,\n         'kind': 2141,\n         'rather': 2118,\n         'worst': 2086,\n         'tv': 2076,\n         'yet': 2069,\n         'found': 2066,\n         'anyone': 2060,\n         'played': 2060,\n         'girl': 2038,\n         'fun': 2030,\n         'woman': 2011,\n         'sure': 2009,\n         'believe': 1963,\n         'making': 1948,\n         'trying': 1943,\n         'especially': 1935,\n         'shows': 1906,\n         'comes': 1898,\n         'put': 1886,\n         'dvd': 1881,\n         'place': 1877,\n         'worth': 1876,\n         'different': 1875,\n         'hard': 1869,\n         'main': 1859,\n         'course': 1855,\n         'everything': 1854,\n         'looking': 1842,\n         'day': 1814,\n         'looks': 1807,\n         'although': 1806,\n         'effects': 1793,\n         'ending': 1792,\n         'money': 1791,\n         'goes': 1776,\n         'book': 1762,\n         'watched': 1762,\n         'reason': 1760,\n         'true': 1757,\n         'wasnt': 1756,\n         'sense': 1737,\n         'said': 1732,\n         'set': 1727,\n         'three': 1725,\n         'maybe': 1723,\n         'play': 1722,\n         'special': 1709,\n         'screen': 1701,\n         'job': 1697,\n         'instead': 1690,\n         'plays': 1675,\n         'seem': 1670,\n         'takes': 1669,\n         'actor': 1667,\n         'together': 1663,\n         'idea': 1655,\n         'someone': 1645,\n         'everyone': 1641,\n         'later': 1627,\n         'seeing': 1624,\n         'version': 1620,\n         'black': 1614,\n         'left': 1613,\n         'beautiful': 1610,\n         'war': 1605,\n         'excellent': 1590,\n         'high': 1575,\n         'audience': 1567,\n         'john': 1562,\n         'shot': 1561,\n         'used': 1543,\n         'wife': 1535,\n         'youre': 1531,\n         'night': 1528,\n         'simply': 1515,\n         'fan': 1511,\n         'help': 1505,\n         'poor': 1494,\n         'completely': 1494,\n         'nice': 1492,\n         'kids': 1490,\n         'american': 1490,\n         'death': 1487,\n         'house': 1484,\n         'else': 1478,\n         'year': 1465,\n         'along': 1459,\n         'second': 1444,\n         'short': 1441,\n         'home': 1441,\n         'friends': 1439,\n         'try': 1438,\n         'men': 1425,\n         'less': 1423,\n         'read': 1419,\n         'classic': 1413,\n         'given': 1408,\n         'truly': 1407,\n         'mind': 1400,\n         'half': 1395,\n         'enjoy': 1375,\n         'production': 1370,\n         'star': 1367,\n         'dead': 1365,\n         'rest': 1364,\n         'start': 1354,\n         'father': 1351,\n         'wrong': 1347,\n         'boring': 1335,\n         'either': 1333,\n         'performances': 1332,\n         'understand': 1327,\n         'couple': 1327,\n         'school': 1322,\n         'recommend': 1320,\n         'hollywood': 1312,\n         'line': 1307,\n         'stupid': 1303,\n         'others': 1300,\n         'sex': 1300,\n         'keep': 1295,\n         'tell': 1293,\n         'came': 1292,\n         'let': 1289,\n         'women': 1287,\n         'getting': 1286,\n         'next': 1286,\n         'video': 1273,\n         'camera': 1268,\n         'awful': 1268,\n         'couldnt': 1261,\n         'lines': 1258,\n         'gives': 1257,\n         'remember': 1257,\n         'mean': 1256,\n         'name': 1252,\n         'person': 1251,\n         'budget': 1248,\n         'wonderful': 1243,\n         'moments': 1241,\n         'full': 1239,\n         'terrible': 1235,\n         'playing': 1230,\n         'perhaps': 1227,\n         'top': 1225,\n         'often': 1219,\n         'absolutely': 1218,\n         'early': 1215,\n         'perfect': 1211,\n         'definitely': 1210,\n         'small': 1208,\n         'stars': 1200,\n         'piece': 1194,\n         'case': 1190,\n         'sort': 1187,\n         'human': 1181,\n         'loved': 1180,\n         'certainly': 1180,\n         'episode': 1169,\n         'face': 1167,\n         'become': 1167,\n         'guys': 1164,\n         'lost': 1162,\n         'several': 1161,\n         'went': 1160,\n         'entire': 1158,\n         'hope': 1157,\n         'dialogue': 1154,\n         'liked': 1153,\n         'head': 1146,\n         'mother': 1140,\n         'problem': 1140,\n         'felt': 1136,\n         'finally': 1135,\n         'supposed': 1133,\n         'boy': 1132,\n         'children': 1130,\n         'shes': 1127,\n         'worse': 1123,\n         'style': 1119,\n         'laugh': 1118,\n         'friend': 1112,\n         'waste': 1101,\n         'wanted': 1100,\n         'sound': 1100,\n         'beginning': 1096,\n         'totally': 1094,\n         'evil': 1094,\n         'written': 1093,\n         'seemed': 1091,\n         'entertaining': 1090,\n         'wont': 1085,\n         'based': 1085,\n         'care': 1078,\n         'live': 1075,\n         'dark': 1074,\n         'cinema': 1070,\n         'already': 1065,\n         'becomes': 1061,\n         'yes': 1055,\n         'title': 1052,\n         'fans': 1049,\n         'guess': 1047,\n         'example': 1046,\n         'able': 1046,\n         'lives': 1042,\n         'direction': 1042,\n         'lead': 1039,\n         'picture': 1037,\n         'humor': 1037,\n         'turn': 1036,\n         'white': 1027,\n         'oh': 1025,\n         'called': 1021,\n         'drama': 1017,\n         'wants': 1006,\n         'days': 1004,\n         'final': 1003,\n         '\\x96': 1001,\n         'mr': 1000,\n         'amazing': 996,\n         'horrible': 984,\n         'history': 982,\n         'gave': 982,\n         'throughout': 981,\n         'favorite': 980,\n         'fine': 978,\n         'son': 978,\n         'youll': 978,\n         'theyre': 974,\n         'despite': 971,\n         'tries': 968,\n         'girls': 965,\n         'game': 965,\n         'quality': 954,\n         'kill': 953,\n         'unfortunately': 952,\n         'behind': 950,\n         'act': 948,\n         'flick': 942,\n         'ones': 939,\n         'turns': 939,\n         'works': 929,\n         'writing': 929,\n         'michael': 927,\n         'child': 922,\n         'side': 922,\n         'parts': 921,\n         'viewer': 918,\n         'town': 918,\n         'matter': 917,\n         'enjoyed': 917,\n         'thinking': 915,\n         'group': 912,\n         'sometimes': 909,\n         'brilliant': 906,\n         'eyes': 902,\n         'killer': 901,\n         'late': 901,\n         'heart': 897,\n         'past': 897,\n         'says': 896,\n         'heard': 896,\n         'expect': 896,\n         'car': 892,\n         'directed': 888,\n         'city': 887,\n         'starts': 886,\n         'stuff': 885,\n         'feeling': 882,\n         'obviously': 879,\n         'killed': 877,\n         'run': 876,\n         'fight': 875,\n         'decent': 871,\n         'happens': 868,\n         'leave': 865,\n         'police': 863,\n         'actress': 862,\n         'art': 862,\n         'overall': 859,\n         'hand': 858,\n         'kid': 856,\n         'type': 856,\n         'wouldnt': 855,\n         'soon': 852,\n         'daughter': 852,\n         'took': 851,\n         'cannot': 849,\n         'told': 848,\n         'including': 848,\n         'looked': 842,\n         'moment': 839,\n         'stories': 836,\n         'extremely': 836,\n         'except': 836,\n         'hell': 829,\n         'genre': 829,\n         'close': 829,\n         'cool': 824,\n         'lack': 822,\n         'living': 821,\n         'save': 821,\n         'simple': 821,\n         'hour': 816,\n         'experience': 814,\n         'stop': 810,\n         'etc': 809,\n         'jokes': 808,\n         'coming': 807,\n         'chance': 807,\n         'particularly': 807,\n         'ago': 806,\n         'exactly': 805,\n         'hilarious': 805,\n         'happened': 804,\n         'complete': 802,\n         'murder': 801,\n         'strong': 800,\n         'highly': 799,\n         'david': 797,\n         'shown': 796,\n         'robert': 796,\n         'ok': 796,\n         'roles': 795,\n         'serious': 794,\n         'wonder': 789,\n         'blood': 787,\n         'obvious': 787,\n         'order': 785,\n         'huge': 783,\n         'slow': 783,\n         'annoying': 778,\n         'happen': 776,\n         'seriously': 775,\n         'saying': 775,\n         'attempt': 773,\n         'english': 772,\n         'crap': 772,\n         'across': 772,\n         'score': 770,\n         'hours': 768,\n         'please': 768,\n         'sad': 767,\n         'alone': 766,\n         'lets': 764,\n         'whose': 764,\n         'shots': 763,\n         'usually': 762,\n         'taken': 762,\n         'song': 761,\n         'reality': 760,\n         'number': 760,\n         'running': 760,\n         'violence': 757,\n         'involved': 755,\n         'hit': 754,\n         'relationship': 753,\n         'possible': 752,\n         'released': 752,\n         'opening': 747,\n         'god': 747,\n         'talent': 744,\n         'major': 744,\n         'wish': 741,\n         'today': 737,\n         'silly': 736,\n         'usual': 734,\n         'started': 734,\n         'age': 732,\n         'career': 732,\n         'voice': 732,\n         'important': 730,\n         'female': 728,\n         'call': 728,\n         'james': 727,\n         'taking': 725,\n         'none': 725,\n         'brother': 723,\n         'interest': 720,\n         'husband': 720,\n         'view': 719,\n         'known': 719,\n         'apparently': 718,\n         'somewhat': 718,\n         'due': 717,\n         'jack': 716,\n         'british': 716,\n         'finds': 716,\n         'rating': 714,\n         'knows': 713,\n         'beyond': 713,\n         'arent': 713,\n         'word': 712,\n         'mostly': 711,\n         'body': 711,\n         'turned': 705,\n         'scary': 704,\n         'words': 703,\n         'happy': 703,\n         'events': 703,\n         'talking': 701,\n         'ends': 699,\n         'hero': 698,\n         'novel': 697,\n         'upon': 696,\n         'musical': 696,\n         'local': 694,\n         'gore': 693,\n         'country': 691,\n         'opinion': 689,\n         'room': 686,\n         'cut': 685,\n         'directors': 685,\n         'power': 684,\n         'anyway': 683,\n         'change': 683,\n         'knew': 683,\n         'french': 683,\n         'disappointed': 682,\n         'tells': 681,\n         'cinematography': 679,\n         'problems': 679,\n         'whats': 678,\n         'basically': 676,\n         'space': 674,\n         'hate': 670,\n         'giving': 669,\n         'mention': 668,\n         'four': 668,\n         'miss': 668,\n         'clearly': 667,\n         'strange': 666,\n         'review': 666,\n         'ridiculous': 666,\n         'modern': 665,\n         'documentary': 663,\n         'songs': 663,\n         'sets': 663,\n         'havent': 658,\n         'cheap': 658,\n         'dialog': 657,\n         'easily': 657,\n         'five': 657,\n         'showing': 656,\n         'television': 656,\n         'level': 655,\n         'needs': 654,\n         'george': 654,\n         'single': 650,\n         'dull': 649,\n         'storyline': 648,\n         'add': 648,\n         'bunch': 648,\n         'light': 644,\n         'attention': 644,\n         'talk': 644,\n         'future': 643,\n         'whether': 643,\n         'theme': 641,\n         'ten': 641,\n         'bring': 640,\n         'supporting': 640,\n         'sequence': 640,\n         'feels': 638,\n         'soundtrack': 636,\n         'middle': 634,\n         'appears': 634,\n         'team': 634,\n         'theater': 632,\n         'surprised': 630,\n         'falls': 630,\n         'named': 630,\n         'subject': 629,\n         'certain': 629,\n         'filmed': 629,\n         'using': 627,\n         'enjoyable': 627,\n         'clear': 626,\n         'effort': 626,\n         'nearly': 626,\n         'episodes': 624,\n         'monster': 624,\n         'tried': 624,\n         'means': 624,\n         'buy': 623,\n         'among': 623,\n         'message': 622,\n         'stay': 621,\n         'deal': 621,\n         'viewers': 621,\n         'fall': 620,\n         'moving': 620,\n         'lots': 620,\n         'class': 617,\n         'working': 617,\n         'parents': 616,\n         'writer': 614,\n         'comments': 614,\n         'dr': 613,\n         'near': 613,\n         'elements': 612,\n         'king': 612,\n         'sequel': 611,\n         'release': 610,\n         'peter': 609,\n         'doubt': 607,\n         'predictable': 606,\n         'mystery': 602,\n         'leads': 601,\n         'sorry': 601,\n         'easy': 601,\n         'ways': 599,\n         'romantic': 598,\n         'actual': 598,\n         'comic': 597,\n         'suspense': 597,\n         'earth': 596,\n         'similar': 594,\n         'straight': 594,\n         'minute': 590,\n         'entertainment': 588,\n         'brought': 586,\n         'die': 586,\n         'move': 586,\n         'typical': 585,\n         'animation': 584,\n         'famous': 583,\n         'gone': 582,\n         'within': 582,\n         'forget': 582,\n         'kept': 580,\n         'youve': 579,\n         'richard': 578,\n         'whos': 578,\n         'killing': 578,\n         'general': 577,\n         'premise': 576,\n         'realistic': 576,\n         'thriller': 574,\n         'gay': 572,\n         'reviews': 571,\n         'check': 571,\n         'sit': 569,\n         'rent': 568,\n         'fantastic': 566,\n         'viewing': 566,\n         'points': 563,\n         'form': 561,\n         'greatest': 561,\n         'situation': 560,\n         'crime': 559,\n         'figure': 558,\n         'feature': 557,\n         'editing': 556,\n         'boys': 556,\n         'follow': 555,\n         'features': 555,\n         'surprise': 555,\n         'eye': 555,\n         'sister': 554,\n         'tale': 554,\n         'material': 553,\n         'somehow': 552,\n         'learn': 549,\n         'weak': 549,\n         'imagine': 548,\n         'average': 548,\n         'okay': 547,\n         'atmosphere': 546,\n         'sequences': 546,\n         'indeed': 545,\n         'hot': 545,\n         'particular': 544,\n         'expected': 543,\n         'fast': 542,\n         'rock': 542,\n         'dog': 541,\n         'memorable': 541,\n         'believable': 538,\n         'period': 537,\n         'lady': 537,\n         'begins': 537,\n         'hear': 536,\n         'previous': 534,\n         'became': 534,\n         'meets': 534,\n         'forced': 534,\n         'writers': 533,\n         'towards': 532,\n         'possibly': 532,\n         'poorly': 531,\n         'york': 531,\n         'filmmakers': 531,\n         'paul': 530,\n         'imdb': 529,\n         'emotional': 527,\n         'sexual': 526,\n         'inside': 524,\n         'tom': 523,\n         'difficult': 523,\n         'scifi': 523,\n         'red': 522,\n         'personal': 522,\n         'interested': 522,\n         'plus': 522,\n         'needed': 522,\n         'lame': 521,\n         'crew': 521,\n         'shame': 520,\n         'truth': 520,\n         'write': 519,\n         'decided': 517,\n         'superb': 517,\n         'credits': 516,\n         'comment': 515,\n         'dance': 515,\n         'island': 514,\n         'leaves': 513,\n         'masterpiece': 513,\n         'eventually': 513,\n         'hands': 511,\n         'footage': 511,\n         'realize': 510,\n         'cheesy': 510,\n         'avoid': 509,\n         'effect': 509,\n         'screenplay': 508,\n         'open': 505,\n         'box': 504,\n         'quickly': 503,\n         'oscar': 502,\n         'whatever': 502,\n         'unless': 501,\n         'street': 499,\n         'note': 497,\n         'doctor': 496,\n         'keeps': 496,\n         'meet': 496,\n         'weird': 495,\n         'free': 495,\n         'third': 495,\n         'begin': 495,\n         'question': 493,\n         'deep': 493,\n         'wait': 493,\n         'otherwise': 492,\n         'joe': 491,\n         'beauty': 490,\n         'fairly': 490,\n         'crazy': 490,\n         'male': 490,\n         'deserves': 488,\n         'reading': 488,\n         'society': 487,\n         'incredibly': 487,\n         'badly': 486,\n         'romance': 486,\n         'political': 484,\n         'ideas': 484,\n         'powerful': 483,\n         'business': 483,\n         'stand': 483,\n         'copy': 483,\n         'nature': 482,\n         'appear': 481,\n         'season': 481,\n         'forward': 480,\n         'total': 480,\n         'battle': 480,\n         'older': 480,\n         'western': 479,\n         'baby': 477,\n         'earlier': 475,\n         'pay': 475,\n         'admit': 475,\n         'acted': 475,\n         'perfectly': 475,\n         'laughs': 474,\n         'various': 474,\n         'development': 474,\n         'zombie': 474,\n         'apart': 473,\n         'background': 473,\n         'mark': 472,\n         'front': 472,\n         'portrayed': 470,\n         'manages': 469,\n         'dramatic': 468,\n         'mess': 468,\n         'rich': 467,\n         'stage': 467,\n         'america': 467,\n         'cover': 467,\n         'plenty': 466,\n         'wasted': 466,\n         'create': 465,\n         'setting': 465,\n         'worked': 465,\n         'meant': 464,\n         'unique': 463,\n         'girlfriend': 463,\n         'attempts': 463,\n         'expecting': 463,\n         'fails': 462,\n         'creepy': 461,\n         'reasons': 460,\n         'sounds': 460,\n         'following': 459,\n         'directing': 458,\n         'lee': 458,\n         'fire': 458,\n         'party': 457,\n         'break': 456,\n         'ask': 456,\n         'la': 456,\n         'missing': 456,\n         'brings': 456,\n         'members': 455,\n         'air': 455,\n         'leading': 453,\n         'recently': 452,\n         'outside': 452,\n         'present': 451,\n         'bill': 451,\n         'laughing': 448,\n         'married': 447,\n         'wrote': 445,\n         'hardly': 445,\n         'return': 445,\n         'dumb': 444,\n         'result': 444,\n         'list': 444,\n         'fighting': 444,\n         'ended': 443,\n         'decides': 443,\n         'water': 443,\n         'potential': 442,\n         'van': 441,\n         'cute': 440,\n         'escape': 440,\n         'secret': 439,\n         'large': 439,\n         'odd': 439,\n         'spent': 437,\n         'appreciate': 436,\n         'twist': 435,\n         'pace': 435,\n         'telling': 434,\n         'dream': 434,\n         'agree': 433,\n         'joke': 432,\n         'cop': 430,\n         'missed': 427,\n         'caught': 427,\n         'talented': 426,\n         'german': 426,\n         'plain': 426,\n         'social': 425,\n         'sees': 425,\n         'remake': 425,\n         'hold': 425,\n         'villain': 424,\n         'state': 424,\n         'credit': 422,\n         'success': 421,\n         'brothers': 421,\n         'force': 420,\n         'clever': 420,\n         'waiting': 419,\n         'familiar': 419,\n         'japanese': 419,\n         'moves': 418,\n         'portrayal': 417,\n         'train': 417,\n         'fantasy': 417,\n         'gun': 417,\n         'disney': 416,\n         'slightly': 416,\n         'project': 415,\n         'created': 415,\n         'visual': 415,\n         'dancing': 415,\n         'uses': 414,\n         'concept': 414,\n         'nudity': 414,\n         'convincing': 413,\n         'cartoon': 411,\n         'casting': 409,\n         'incredible': 409,\n         'public': 409,\n         'basic': 408,\n         'mentioned': 408,\n         'producers': 408,\n         'produced': 408,\n         'images': 407,\n         'christmas': 407,\n         'william': 407,\n         'suddenly': 406,\n         'biggest': 405,\n         'younger': 404,\n         'hair': 402,\n         'sadly': 401,\n         'flat': 401,\n         'neither': 400,\n         'popular': 400,\n         'considering': 399,\n         'revenge': 399,\n         'italian': 399,\n         'impossible': 398,\n         'band': 398,\n         'changed': 398,\n         'era': 397,\n         'pure': 397,\n         'successful': 397,\n         'follows': 396,\n         'value': 396,\n         'office': 396,\n         'entirely': 395,\n         'compared': 395,\n         'recent': 395,\n         'bored': 392,\n         'trash': 391,\n         'unlike': 391,\n         'consider': 390,\n         'cold': 389,\n         'fear': 389,\n         'values': 389,\n         'store': 388,\n         'barely': 388,\n         'common': 388,\n         'pointless': 387,\n         'trouble': 386,\n         'amount': 386,\n         'audiences': 385,\n         'likes': 385,\n         'kills': 385,\n         'longer': 385,\n         'intelligent': 384,\n         'ultimately': 384,\n         'singing': 384,\n         'situations': 383,\n         'decide': 382,\n         'cat': 382,\n         'recommended': 381,\n         'sexy': 381,\n         'control': 380,\n         'literally': 380,\n         'former': 380,\n         'died': 379,\n         'vampire': 379,\n         'choice': 378,\n         'tension': 378,\n         'company': 378,\n         'aside': 378,\n         'remains': 378,\n         'fit': 378,\n         'normal': 377,\n         'yeah': 377,\n         'solid': 377,\n         'violent': 377,\n         'college': 377,\n         'books': 376,\n         'positive': 376,\n         'journey': 375,\n         'photography': 375,\n         'involving': 375,\n         'standard': 374,\n         'fake': 374,\n         ...})"
     },
     "execution_count": 15,
     "metadata": {},
     "output_type": "execute_result"
    }
   ],
   "source": [
    "from collections import Counter\n",
    "\n",
    "counter = Counter()\n",
    "\n",
    "for review in df[\"review\"]:       \n",
    "    counter.update(review.split())\n",
    "\n",
    "counter"
   ],
   "metadata": {
    "collapsed": false,
    "ExecuteTime": {
     "end_time": "2024-03-22T03:21:04.293036400Z",
     "start_time": "2024-03-22T03:21:02.912576100Z"
    }
   },
   "id": "9a3f0f3450ce91b",
   "execution_count": 15
  },
  {
   "cell_type": "code",
   "outputs": [
    {
     "data": {
      "text/plain": "16411"
     },
     "execution_count": 16,
     "metadata": {},
     "output_type": "execute_result"
    }
   ],
   "source": [
    "vocab = sorted([token for token in counter if counter[token] > 10])\n",
    "vocab_data = \"\\n\".join(vocab)\n",
    "with open(\"./../artifacts/vocab.txt\", \"w\", encoding=\"utf-8\") as file:\n",
    "    file.write(vocab_data)\n",
    "\n",
    "len(vocab)"
   ],
   "metadata": {
    "collapsed": false,
    "ExecuteTime": {
     "end_time": "2024-03-22T03:21:04.494317200Z",
     "start_time": "2024-03-22T03:21:04.294204100Z"
    }
   },
   "id": "90ff53a6a216f32c",
   "execution_count": 16
  },
  {
   "cell_type": "code",
   "outputs": [
    {
     "name": "stdout",
     "output_type": "stream",
     "text": [
      "True\n",
      "Length Vocab:-  16411\n",
      "0\n"
     ]
    }
   ],
   "source": [
    "with open(\"./../artifacts/vocab.txt\", \"r\", encoding=\"utf-8\") as file2:\n",
    "    vt = file2.readlines()\n",
    "\n",
    "vt = [s.strip() for s in vt]\n",
    "result = [w == v for w,v in zip(vocab, vt)]\n",
    "print(vt == vocab)\n",
    "print(\"Length Vocab:- \", len(vt))\n",
    "print(len(list(filter(lambda g: g == False, result))))"
   ],
   "metadata": {
    "collapsed": false,
    "ExecuteTime": {
     "end_time": "2024-03-22T03:27:44.155826400Z",
     "start_time": "2024-03-22T03:27:44.020645900Z"
    }
   },
   "id": "89d2b06dcd31fec7",
   "execution_count": 22
  },
  {
   "cell_type": "code",
   "outputs": [],
   "source": [
    "from sklearn.model_selection import train_test_split\n",
    "\n",
    "x = df[\"review\"]\n",
    "y = df[\"label\"]"
   ],
   "metadata": {
    "collapsed": false,
    "ExecuteTime": {
     "end_time": "2024-03-19T18:49:52.997089400Z",
     "start_time": "2024-03-19T18:49:52.885719800Z"
    }
   },
   "id": "838cb279da22dad8",
   "execution_count": 17
  },
  {
   "cell_type": "code",
   "outputs": [],
   "source": [
    "x_train, x_test, y_train, y_test = train_test_split(x, y, test_size=0.2)"
   ],
   "metadata": {
    "collapsed": false,
    "ExecuteTime": {
     "end_time": "2024-03-19T18:49:53.080773900Z",
     "start_time": "2024-03-19T18:49:52.914686100Z"
    }
   },
   "id": "ae398613f5713262",
   "execution_count": 18
  },
  {
   "cell_type": "code",
   "outputs": [],
   "source": [
    "import numpy as np"
   ],
   "metadata": {
    "collapsed": false,
    "ExecuteTime": {
     "end_time": "2024-03-19T18:49:53.119155900Z",
     "start_time": "2024-03-19T18:49:52.943687500Z"
    }
   },
   "id": "d215b5177d460f46",
   "execution_count": 19
  },
  {
   "cell_type": "code",
   "outputs": [],
   "source": [
    "def vectorize(dataset, vocabulary):\n",
    "    vectors = []\n",
    "    for tweet in dataset:\n",
    "        text = np.zeros(len(vocabulary))\n",
    "        \n",
    "        words = tweet.split()\n",
    "        for i in range(len(vocabulary)):\n",
    "            if vocabulary[i] in words:\n",
    "                text[i] = 1\n",
    "        \n",
    "        vectors.append(text)\n",
    "    vectorized_list = np.asarray(vectors, dtype=np.float32)\n",
    "    return vectorized_list"
   ],
   "metadata": {
    "collapsed": false,
    "ExecuteTime": {
     "end_time": "2024-03-19T20:48:01.196017600Z",
     "start_time": "2024-03-19T20:48:01.058260300Z"
    }
   },
   "id": "434c451302cdd9a7",
   "execution_count": 54
  },
  {
   "cell_type": "code",
   "outputs": [],
   "source": [
    "x_train_vectorized = vectorize(x_train, vocab)"
   ],
   "metadata": {
    "collapsed": false,
    "ExecuteTime": {
     "end_time": "2024-03-19T19:09:19.070672400Z",
     "start_time": "2024-03-19T18:49:52.983988900Z"
    }
   },
   "id": "111db86886a58f5b",
   "execution_count": 21
  },
  {
   "cell_type": "code",
   "outputs": [],
   "source": [
    "x_test_vectorized = vectorize(x_test, vocab)"
   ],
   "metadata": {
    "collapsed": false,
    "ExecuteTime": {
     "end_time": "2024-03-19T19:14:44.428412100Z",
     "start_time": "2024-03-19T19:09:19.077945Z"
    }
   },
   "id": "b94db452b27b48bb",
   "execution_count": 22
  },
  {
   "cell_type": "code",
   "outputs": [
    {
     "data": {
      "text/plain": "'years old never seen movie maybe film may entertainment youve seen several movies one silly fullycliched cheap predictable dont waste time'"
     },
     "execution_count": 35,
     "metadata": {},
     "output_type": "execute_result"
    }
   ],
   "source": [
    "xx"
   ],
   "metadata": {
    "collapsed": false,
    "ExecuteTime": {
     "end_time": "2024-03-19T19:23:00.709915Z",
     "start_time": "2024-03-19T19:23:00.639551600Z"
    }
   },
   "id": "82e707dfda05bee",
   "execution_count": 35
  },
  {
   "cell_type": "code",
   "outputs": [
    {
     "name": "stdout",
     "output_type": "stream",
     "text": [
      "16411\n"
     ]
    }
   ],
   "source": [
    "x_vectorized = vectorize([xx], vocab)"
   ],
   "metadata": {
    "collapsed": false,
    "ExecuteTime": {
     "end_time": "2024-03-19T20:48:11.835852500Z",
     "start_time": "2024-03-19T20:48:11.622376400Z"
    }
   },
   "id": "2557c74c7952ed71",
   "execution_count": 56
  },
  {
   "cell_type": "code",
   "outputs": [
    {
     "data": {
      "text/plain": "16411"
     },
     "execution_count": 37,
     "metadata": {},
     "output_type": "execute_result"
    }
   ],
   "source": [
    "len(x_train_vectorized[0])"
   ],
   "metadata": {
    "collapsed": false,
    "ExecuteTime": {
     "end_time": "2024-03-19T19:23:10.365552700Z",
     "start_time": "2024-03-19T19:23:10.267538600Z"
    }
   },
   "id": "c350111eb07674ad",
   "execution_count": 37
  },
  {
   "cell_type": "code",
   "outputs": [
    {
     "data": {
      "text/plain": "label\n0    8022\n1    7978\nName: count, dtype: int64"
     },
     "execution_count": 39,
     "metadata": {},
     "output_type": "execute_result"
    }
   ],
   "source": [
    "y_train.value_counts()"
   ],
   "metadata": {
    "collapsed": false,
    "ExecuteTime": {
     "end_time": "2024-03-19T19:23:44.407972800Z",
     "start_time": "2024-03-19T19:23:44.322264300Z"
    }
   },
   "id": "c37759af38f10f3d",
   "execution_count": 39
  },
  {
   "cell_type": "code",
   "outputs": [],
   "source": [
    "from sklearn.linear_model import LogisticRegression"
   ],
   "metadata": {
    "collapsed": false,
    "ExecuteTime": {
     "end_time": "2024-03-19T19:23:51.143186400Z",
     "start_time": "2024-03-19T19:23:51.035470Z"
    }
   },
   "id": "24632284b225214",
   "execution_count": 41
  },
  {
   "cell_type": "code",
   "outputs": [],
   "source": [
    "from sklearn.metrics import accuracy_score, f1_score, precision_score, recall_score\n",
    "\n",
    "def training_scores(y_act, y_pred):\n",
    "    acc = round(accuracy_score(y_act, y_pred), 3)\n",
    "    pr = round(precision_score(y_act, y_pred), 3)\n",
    "    rec = round(recall_score(y_act, y_pred), 3)\n",
    "    f1 = round(f1_score(y_act, y_pred), 3)\n",
    "    print(f'Training Scores:\\n\\tAccuracy = {acc}\\n\\tPrecision = {pr}\\n\\tRecall = {rec}\\n\\tF1-Score = {f1}')\n",
    "    \n",
    "def validation_scores(y_act, y_pred):\n",
    "    acc = round(accuracy_score(y_act, y_pred), 3)\n",
    "    pr = round(precision_score(y_act, y_pred), 3)\n",
    "    rec = round(recall_score(y_act, y_pred), 3)\n",
    "    f1 = round(f1_score(y_act, y_pred), 3)\n",
    "    print(f'Testing Scores:\\n\\tAccuracy = {acc}\\n\\tPrecision = {pr}\\n\\tRecall = {rec}\\n\\tF1-Score = {f1}')"
   ],
   "metadata": {
    "collapsed": false,
    "ExecuteTime": {
     "end_time": "2024-03-19T19:23:53.746000200Z",
     "start_time": "2024-03-19T19:23:53.634882600Z"
    }
   },
   "id": "e5a454897c4d05f1",
   "execution_count": 42
  },
  {
   "cell_type": "code",
   "outputs": [
    {
     "name": "stdout",
     "output_type": "stream",
     "text": [
      "Training Scores:\n",
      "\tAccuracy = 0.998\n",
      "\tPrecision = 0.998\n",
      "\tRecall = 0.997\n",
      "\tF1-Score = 0.997\n",
      "Testing Scores:\n",
      "\tAccuracy = 0.861\n",
      "\tPrecision = 0.877\n",
      "\tRecall = 0.842\n",
      "\tF1-Score = 0.859\n"
     ]
    }
   ],
   "source": [
    "lr = LogisticRegression()\n",
    "lr.fit(x_train_vectorized, y_train)\n",
    "\n",
    "y_train_pred = lr.predict(x_train_vectorized)\n",
    "\n",
    "y_test_pred = lr.predict(x_test_vectorized)\n",
    "\n",
    "training_scores(y_train, y_train_pred)\n",
    "\n",
    "validation_scores(y_test, y_test_pred)"
   ],
   "metadata": {
    "collapsed": false,
    "ExecuteTime": {
     "end_time": "2024-03-19T19:24:19.238712Z",
     "start_time": "2024-03-19T19:23:55.132401200Z"
    }
   },
   "id": "c338ad0e1830ae76",
   "execution_count": 43
  },
  {
   "cell_type": "code",
   "outputs": [],
   "source": [
    "y_test_pred"
   ],
   "metadata": {
    "collapsed": false,
    "ExecuteTime": {
     "start_time": "2024-03-19T19:14:46.374708500Z"
    }
   },
   "id": "9cdcadb8427f4837",
   "execution_count": null
  },
  {
   "cell_type": "code",
   "outputs": [],
   "source": [
    "y_pred = lr.predict(np.asarray(x_vectorized))"
   ],
   "metadata": {
    "collapsed": false,
    "ExecuteTime": {
     "end_time": "2024-03-19T19:25:54.231219500Z",
     "start_time": "2024-03-19T19:25:54.151168300Z"
    }
   },
   "id": "bb57c3bf225ae8fb",
   "execution_count": 44
  },
  {
   "cell_type": "code",
   "outputs": [
    {
     "data": {
      "text/plain": "1"
     },
     "execution_count": 45,
     "metadata": {},
     "output_type": "execute_result"
    }
   ],
   "source": [
    "y_pred[0]"
   ],
   "metadata": {
    "collapsed": false,
    "ExecuteTime": {
     "end_time": "2024-03-19T19:25:56.552150600Z",
     "start_time": "2024-03-19T19:25:56.487440600Z"
    }
   },
   "id": "b342e2af876997e1",
   "execution_count": 45
  },
  {
   "cell_type": "code",
   "outputs": [
    {
     "name": "stderr",
     "output_type": "stream",
     "text": [
      "[nltk_data] Downloading package stopwords to\n",
      "[nltk_data]     C:\\Users\\hesha\\AppData\\Roaming\\nltk_data...\n",
      "[nltk_data]   Package stopwords is already up-to-date!\n",
      "[nltk_data] Downloading package wordnet to\n",
      "[nltk_data]     C:\\Users\\hesha\\AppData\\Roaming\\nltk_data...\n",
      "[nltk_data]   Package wordnet is already up-to-date!\n"
     ]
    }
   ],
   "source": [
    "import re\n",
    "import string\n",
    "\n",
    "import nltk\n",
    "import numpy as np\n",
    "from nltk.stem import WordNetLemmatizer\n",
    "from numpy import ndarray\n",
    "\n",
    "nltk.download('stopwords')\n",
    "nltk.download('wordnet')\n",
    "\n",
    "\n",
    "class TextPipeline:\n",
    "    def __init__(self, text):\n",
    "        self.__wnl = WordNetLemmatizer()\n",
    "        self.__stopwords_str = \", \".join(nltk.corpus.stopwords.words('english'))\n",
    "        self.text = text\n",
    "\n",
    "    def _preprocess(self):\n",
    "        self.text = self.text.lower()\n",
    "        self.text = re.sub(\"<.+?/?>\", \"\", self.text)\n",
    "        self.text = self.text.translate(str.maketrans(\"\", \"\", string.punctuation))\n",
    "        self.text = re.sub(r\"\\d+\", \"\", self.text)\n",
    "        self.text = re.sub(r\"  \", \" \", self.text)\n",
    "\n",
    "    def _remove_stopwords(self):\n",
    "        new_text = []\n",
    "        for token in self.text.split():\n",
    "            if not token in self.__stopwords_str:\n",
    "                new_text.append(token)\n",
    "        self.text = \" \".join(new_text)\n",
    "\n",
    "    def _lemmatize(self):\n",
    "        new_text = []\n",
    "        for word in self.text.split():\n",
    "            word = self.__wnl.lemmatize(word)\n",
    "            new_text.append(word)\n",
    "        self.text = \" \".join(new_text)\n",
    "\n",
    "    def preprocess_text(self) -> str:\n",
    "        self._preprocess()\n",
    "        self._remove_stopwords()\n",
    "        self._lemmatize()\n",
    "        print(self.text)\n",
    "        return self.text\n",
    "\n",
    "    def vectorize_text(self) -> ndarray:\n",
    "        print(self.text)\n",
    "        vector_array = []\n",
    "        vocab_d = pd.read_csv(\"./../artifacts/vocab.txt\", header=None)\n",
    "        vocab_d = vocab_d[0].tolist()\n",
    "        vector = np.zeros(len(vocab))\n",
    "        words = self.text.split()\n",
    "        for i in range(len(vocab)):\n",
    "            if vocab[i] in words:\n",
    "                vector[i] = 1\n",
    "        print(len(vector))\n",
    "        vector_array.append(vector)\n",
    "        np_array = np.asarray(vector_array, dtype=np.float32)\n",
    "        return np_array\n"
   ],
   "metadata": {
    "collapsed": false,
    "ExecuteTime": {
     "end_time": "2024-03-19T21:09:50.443663300Z",
     "start_time": "2024-03-19T21:09:49.970341400Z"
    }
   },
   "id": "70fb77e22fba941c",
   "execution_count": 76
  },
  {
   "cell_type": "code",
   "outputs": [
    {
     "name": "stdout",
     "output_type": "stream",
     "text": [
      "year old never seen movie maybe film may entertainment youve seen several movie one silly fullycliched cheap predictable dont waste time\n",
      "year old never seen movie maybe film may entertainment youve seen several movie one silly fullycliched cheap predictable dont waste time\n",
      "16411\n"
     ]
    },
    {
     "data": {
      "text/plain": "array([1], dtype=int64)"
     },
     "execution_count": 77,
     "metadata": {},
     "output_type": "execute_result"
    }
   ],
   "source": [
    "text = \"If you are 10 years old and never seen a movie before, maybe this film may be entertainment for you, but if you've seen several movies, this one will be a silly fully-cliched cheap and predictable for you. Don't waste your time with this.\"\n",
    "pipeline = TextPipeline(text)\n",
    "pipeline.preprocess_text()\n",
    "vector = pipeline.vectorize_text()\n",
    "\n",
    "prediction = lr.predict(x_vectorized)\n",
    "prediction"
   ],
   "metadata": {
    "collapsed": false,
    "ExecuteTime": {
     "end_time": "2024-03-19T21:09:51.560151500Z",
     "start_time": "2024-03-19T21:09:51.286629500Z"
    }
   },
   "id": "83d66787d69f8455",
   "execution_count": 77
  },
  {
   "cell_type": "code",
   "outputs": [],
   "source": [
    "import pickle\n",
    "\n",
    "with open('./../artifacts/model.pickle', 'wb') as file:\n",
    "    pickle.dump(lr, file)"
   ],
   "metadata": {
    "collapsed": false,
    "ExecuteTime": {
     "start_time": "2024-03-19T19:14:46.424109400Z"
    }
   },
   "id": "704f62faadd010ac",
   "execution_count": null
  },
  {
   "cell_type": "code",
   "outputs": [
    {
     "data": {
      "text/plain": "False"
     },
     "execution_count": 52,
     "metadata": {},
     "output_type": "execute_result"
    }
   ],
   "source": [
    "tt = vector == x_vectorized\n",
    "tt.all()"
   ],
   "metadata": {
    "collapsed": false,
    "ExecuteTime": {
     "end_time": "2024-03-19T19:52:17.563961900Z",
     "start_time": "2024-03-19T19:52:17.324768900Z"
    }
   },
   "id": "74d9852f56cfe272",
   "execution_count": 52
  },
  {
   "cell_type": "code",
   "outputs": [],
   "source": [],
   "metadata": {
    "collapsed": false
   },
   "id": "d600a87656b3b59c"
  }
 ],
 "metadata": {
  "kernelspec": {
   "display_name": "Python 3",
   "language": "python",
   "name": "python3"
  },
  "language_info": {
   "codemirror_mode": {
    "name": "ipython",
    "version": 2
   },
   "file_extension": ".py",
   "mimetype": "text/x-python",
   "name": "python",
   "nbconvert_exporter": "python",
   "pygments_lexer": "ipython2",
   "version": "2.7.6"
  }
 },
 "nbformat": 4,
 "nbformat_minor": 5
}
